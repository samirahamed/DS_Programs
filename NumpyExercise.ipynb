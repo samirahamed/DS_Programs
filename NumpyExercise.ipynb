{
  "nbformat": 4,
  "nbformat_minor": 0,
  "metadata": {
    "kernelspec": {
      "display_name": "Python 3",
      "language": "python",
      "name": "python3"
    },
    "language_info": {
      "codemirror_mode": {
        "name": "ipython",
        "version": 3
      },
      "file_extension": ".py",
      "mimetype": "text/x-python",
      "name": "python",
      "nbconvert_exporter": "python",
      "pygments_lexer": "ipython3",
      "version": "3.7.3"
    },
    "colab": {
      "name": "NumpyExercise.ipynb",
      "provenance": []
    }
  },
  "cells": [
    {
      "cell_type": "code",
      "metadata": {
        "id": "cRl1fwoBsDpq",
        "outputId": "a6401489-c2e7-4f3d-9418-4749c1d1857f"
      },
      "source": [
        "'''\n",
        "Exercise 1: NumPy: Create an array with values ranging from 12 to 38\n",
        "[12 13 14 15 16 17 18 19 20 21 22 23 24 25 26 27 28 29 30 31 32 33 34 35\n",
        " 36 37]\n",
        " '''\n",
        "a=np.arange(12,38)\n",
        "print(a)"
      ],
      "execution_count": null,
      "outputs": [
        {
          "output_type": "stream",
          "text": [
            "[12 13 14 15 16 17 18 19 20 21 22 23 24 25 26 27 28 29 30 31 32 33 34 35\n",
            " 36 37]\n"
          ],
          "name": "stdout"
        }
      ]
    },
    {
      "cell_type": "code",
      "metadata": {
        "id": "nhkRBfoGsDpq",
        "outputId": "5e2234c1-f20b-424b-a268-c21c3ecc9c4e"
      },
      "source": [
        "'''\n",
        "Exercise 2: Add a border around an existing array\n",
        "Hint: np.pad()\n",
        "Original array:\n",
        "[[1. 1. 1.]\n",
        " [1. 1. 1.]\n",
        " [1. 1. 1.]]\n",
        "0 on the border and 1 inside in the array\n",
        "[[0. 0. 0. 0. 0.]\n",
        " [0. 1. 1. 1. 0.]\n",
        " [0. 1. 1. 1. 0.]\n",
        " [0. 1. 1. 1. 0.]\n",
        " [0. 0. 0. 0. 0.]]\n",
        "'''\n",
        "a=np.full((3,3),1,dtype=float)\n",
        "print(a.shape)\n",
        "np.pad(a,1,'constant',constant_values=0)"
      ],
      "execution_count": null,
      "outputs": [
        {
          "output_type": "stream",
          "text": [
            "3\n"
          ],
          "name": "stdout"
        },
        {
          "output_type": "execute_result",
          "data": {
            "text/plain": [
              "array([[0., 0., 0., 0., 0.],\n",
              "       [0., 1., 1., 1., 0.],\n",
              "       [0., 1., 1., 1., 0.],\n",
              "       [0., 1., 1., 1., 0.],\n",
              "       [0., 0., 0., 0., 0.]])"
            ]
          },
          "metadata": {
            "tags": []
          },
          "execution_count": 68
        }
      ]
    },
    {
      "cell_type": "code",
      "metadata": {
        "id": "Hy4Gl0hgsDp6",
        "outputId": "56cf640b-554f-41aa-9323-69f818c4ed12"
      },
      "source": [
        "'''\n",
        "Exercise 3: Convert a list and tuple into arrays\n",
        "List to array: \n",
        "[1 2 3 4 5 6 7 8]\n",
        "Tuple to array: \n",
        "[[8 4 6]\n",
        " [1 2 3]]\n",
        "'''\n",
        "list_=[1,2,3,4,5,6,7,8]\n",
        "\n",
        "a=np.array(list_)\n",
        "print(a)\n",
        "\n",
        "tuple_=(8,4,6,1,2,3)\n",
        "b=np.array(tuple_).reshape(2,3)\n",
        "print(b)\n",
        "\n",
        "\n",
        "a=np.array([1,2,3,4,5,6,7,8])\n",
        "print(a)\n",
        "\n",
        "'''\n",
        "Difference:The vital difference between the above two methods is that numpy.array() \n",
        "will make a duplicate of the original object and numpy.asarray() would mirror the changes in the original object. i.e :\n",
        "\n",
        "When a copy of the array is made by using numpy.asarray() , the changes made in one array would be reflected \n",
        "in the other array also but doesn’t show the changes in the list by which if the array is made. \n",
        "However, this doesn’t happen with numpy.array().\n",
        "'''\n"
      ],
      "execution_count": null,
      "outputs": [
        {
          "output_type": "stream",
          "text": [
            "[1 2 3 4 5 6 7 8]\n",
            "[[8 4 6]\n",
            " [1 2 3]]\n",
            "[1 2 3 4 5 6 7 8]\n"
          ],
          "name": "stdout"
        }
      ]
    },
    {
      "cell_type": "code",
      "metadata": {
        "id": "nloHWXrrsDp7",
        "outputId": "12abae0a-f777-467a-85a0-65a8afba31b6"
      },
      "source": [
        "'''\n",
        "Exercise 4: Convert the values of Centigrade degrees into Fahrenheit degrees\n",
        "Values in Fahrenheit degrees:\n",
        "[ 0.   12.   45.21 34.   99.91]\n",
        "Values in  Centigrade degrees:\n",
        "[-17.77777778 -11.11111111   7.33888889   1.11111111  37.72777778]\n",
        "'''\n",
        "\n",
        "a=np.array([0.,   12.,   45.21, 34.,   99.91])\n",
        "b=((a-32)*(5/9))\n",
        "print(b)"
      ],
      "execution_count": null,
      "outputs": [
        {
          "output_type": "stream",
          "text": [
            "[-17.77777778 -11.11111111   7.33888889   1.11111111  37.72777778]\n"
          ],
          "name": "stdout"
        }
      ]
    },
    {
      "cell_type": "code",
      "metadata": {
        "id": "s_RGwGkwsDp7",
        "outputId": "80f35a3e-cd10-442a-a714-69c53001f068"
      },
      "source": [
        "'''\n",
        "Exercise 5: Write a NumPy program to find the number of elements of an array, length of one array element in bytes and \n",
        "total bytes consumed by the elements.\n",
        "Size of the array:  3\n",
        "Length of one array element in bytes:  8\n",
        "Total bytes consumed by the elements of the array:  24\n",
        "'''\n",
        "a=np.array([1,2,3],dtype=np.float64)\n",
        "print(\"Size of the array:  \",a.size)\n",
        "print(\"Length of one array element in bytes:  \",a.itemsize)\n",
        "print(\"Total bytes consumed by the elements of the array:  \",a.nbytes)"
      ],
      "execution_count": null,
      "outputs": [
        {
          "output_type": "stream",
          "text": [
            "Size of the array:   3\n",
            "Length of one array element in bytes:   8\n",
            "Total bytes consumed by the elements of the array:   24\n"
          ],
          "name": "stdout"
        }
      ]
    },
    {
      "cell_type": "code",
      "metadata": {
        "id": "p8jKmNvTsDp7",
        "outputId": "a6af5118-292f-4fd9-a507-419317c58493"
      },
      "source": [
        "'''\n",
        "Exercise 6: Get the unique elements of an array\n",
        "Original array:\n",
        "[10 10 20 20 30 30]\n",
        "Unique elements of the above array:\n",
        "[10 20 30]\n",
        "Original array:\n",
        "[[1 1 2]\n",
        " [2 3 3]]\n",
        "Unique elements of the above array:\n",
        "[1 2 3]\n",
        "'''\n",
        "\n",
        "a=np.array([10, 40, 20, 20, 30, 30,10])\n",
        "#np.unique(a,return_index=True,return_inverse=True,return_counts=True,axis=0)\n",
        "print(\"Original array:\",a,'\\n',\"Unique elements of the above array:\",np.unique(a))\n",
        "b=np.array([[1 ,1,2], [2, 3,2]])\n",
        "print(\"Original array:\",b,'\\n',\"Unique elements of the above array:\",np.unique(b))\n"
      ],
      "execution_count": null,
      "outputs": [
        {
          "output_type": "stream",
          "text": [
            "Original array: [10 40 20 20 30 30 10] \n",
            " Unique elements of the above array: [10 20 30 40]\n",
            "Original array: [[1 1 2]\n",
            " [2 3 2]] \n",
            " Unique elements of the above array: [1 2 3]\n"
          ],
          "name": "stdout"
        }
      ]
    },
    {
      "cell_type": "code",
      "metadata": {
        "id": "5n-Bg2dvsDp7",
        "outputId": "dffe46ac-cced-4162-a711-bdb2e592221f"
      },
      "source": [
        "'''\n",
        "Exercise 7: Change the dimension of an array\n",
        "Original array: [1 2 3 4 5 6 7 8 9]\n",
        "Change array shape to (3, 3) -> 3 rows and 3 columns \n",
        "[[1 2 3]\n",
        " [4 5 6]\n",
        " [7 8 9]]\n",
        "'''\n",
        "a=np.array([1, 2, 3, 4, 5, 6,7, 8, 9 ])\n",
        "print(np.reshape(a,(3,3)))\n"
      ],
      "execution_count": null,
      "outputs": [
        {
          "output_type": "stream",
          "text": [
            "[[1 2 3]\n",
            " [4 5 6]\n",
            " [7 8 9]]\n"
          ],
          "name": "stdout"
        }
      ]
    },
    {
      "cell_type": "code",
      "metadata": {
        "id": "CWxJ5vxRsDp7",
        "outputId": "a48a9bb6-d5ac-40fa-c51f-cf668634964e"
      },
      "source": [
        "'''\n",
        "Exercise 8: Create a 1-D array of 30 evenly spaced elements between 2.5. and 6.5, inclusive\n",
        "[2.5        2.63793103 2.77586207 2.9137931  3.05172414 3.18965517\n",
        " 3.32758621 3.46551724 3.60344828 3.74137931 3.87931034 4.01724138\n",
        " 4.15517241 4.29310345 4.43103448 4.56896552 4.70689655 4.84482759\n",
        " 4.98275862 5.12068966 5.25862069 5.39655172 5.53448276 5.67241379\n",
        " 5.81034483 5.94827586 6.0862069  6.22413793 6.36206897 6.5       ]\n",
        " '''\n",
        "\n",
        "a=np.linspace(2.5,6.5,num=30)\n",
        "print(a)"
      ],
      "execution_count": null,
      "outputs": [
        {
          "output_type": "stream",
          "text": [
            "[2.5        2.63793103 2.77586207 2.9137931  3.05172414 3.18965517\n",
            " 3.32758621 3.46551724 3.60344828 3.74137931 3.87931034 4.01724138\n",
            " 4.15517241 4.29310345 4.43103448 4.56896552 4.70689655 4.84482759\n",
            " 4.98275862 5.12068966 5.25862069 5.39655172 5.53448276 5.67241379\n",
            " 5.81034483 5.94827586 6.0862069  6.22413793 6.36206897 6.5       ]\n"
          ],
          "name": "stdout"
        }
      ]
    },
    {
      "cell_type": "code",
      "metadata": {
        "id": "m8x4tyBIsDp7",
        "outputId": "8d77a49d-25df-4bc0-fe65-502d4f67a75f"
      },
      "source": [
        "'''\n",
        "Exercise 9: Convert 1-D arrays as columns into a 2-D array\n",
        "Array1: [10 20 30]\n",
        "Array2: [40 50 60]\n",
        "Converted array\n",
        "[[10 40]\n",
        " [20 50]\n",
        " [30 60]]'''\n",
        "a=np.array([10,20,30])\n",
        "b=np.array([40,50,60])\n",
        "np.column_stack((a,b))"
      ],
      "execution_count": null,
      "outputs": [
        {
          "output_type": "execute_result",
          "data": {
            "text/plain": [
              "array([[10, 40],\n",
              "       [20, 50],\n",
              "       [30, 60]])"
            ]
          },
          "metadata": {
            "tags": []
          },
          "execution_count": 69
        }
      ]
    },
    {
      "cell_type": "code",
      "metadata": {
        "id": "Iazc69_ZsDp7",
        "outputId": "b77567c2-6bd4-49fc-b92c-582e7cb9a383"
      },
      "source": [
        "'''\n",
        "Exercise 10: Create a 5x5 matrix with row values ranging from 0 to 4\n",
        "Original array:\n",
        "[[0. 0. 0. 0. 0.]\n",
        " [0. 0. 0. 0. 0.]\n",
        " [0. 0. 0. 0. 0.]\n",
        " [0. 0. 0. 0. 0.]\n",
        " [0. 0. 0. 0. 0.]]\n",
        "Row values ranging from 0 to 4.\n",
        "[[0. 1. 2. 3. 4.]\n",
        " [0. 1. 2. 3. 4.]\n",
        " [0. 1. 2. 3. 4.]\n",
        " [0. 1. 2. 3. 4.]\n",
        " [0. 1. 2. 3. 4.]]\n",
        " '''\n",
        "a=np.zeros((5,5))\n",
        "a=a+np.arange(0,5)\n",
        "print(a)"
      ],
      "execution_count": null,
      "outputs": [
        {
          "output_type": "stream",
          "text": [
            "[[0. 1. 2. 3. 4.]\n",
            " [0. 1. 2. 3. 4.]\n",
            " [0. 1. 2. 3. 4.]\n",
            " [0. 1. 2. 3. 4.]\n",
            " [0. 1. 2. 3. 4.]]\n"
          ],
          "name": "stdout"
        }
      ]
    },
    {
      "cell_type": "code",
      "metadata": {
        "id": "Rw_Ra9iCsDp7",
        "outputId": "d5bc4d1e-9b84-4790-dd6b-bdb0d0f3155e"
      },
      "source": [
        "'''\n",
        "Exercise 11: Sum of all the multiples of 3 or 5 below 100\n",
        "[ 3  5  6  9 10 12 15 18 20 21 24 25 27 30 33 35 36 39 40 42 45 48 50 51\n",
        " 54 55 57 60 63 65 66 69 70 72 75 78 80 81 84 85 87 90 93 95 96 99]\n",
        "2318\n",
        "'''\n",
        "a=np.arange(3,100)\n",
        "b=a[(a%3==0) | (a%5==0)]\n",
        "print(b)\n",
        "b.sum()"
      ],
      "execution_count": null,
      "outputs": [
        {
          "output_type": "stream",
          "text": [
            "[ 3  5  6  9 10 12 15 18 20 21 24 25 27 30 33 35 36 39 40 42 45 48 50 51\n",
            " 54 55 57 60 63 65 66 69 70 72 75 78 80 81 84 85 87 90 93 95 96 99]\n"
          ],
          "name": "stdout"
        },
        {
          "output_type": "execute_result",
          "data": {
            "text/plain": [
              "2318"
            ]
          },
          "metadata": {
            "tags": []
          },
          "execution_count": 89
        }
      ]
    },
    {
      "cell_type": "code",
      "metadata": {
        "id": "sOwSJBCzsDp7",
        "outputId": "fd3008df-811d-479f-8624-32eb0bc6b135"
      },
      "source": [
        "'''\n",
        "Exercise 12: Combine a one and a two dimensional array together and display their elements\n",
        "One dimensional array:\n",
        "[0 1 2 3]\n",
        "Two dimensional array:\n",
        "[[0 1 2 3]\n",
        " [4 5 6 7]]\n",
        "0:0\n",
        "1:1\n",
        "2:2\n",
        "3:3\n",
        "0:4\n",
        "1:5\n",
        "2:6\n",
        "3:7\n",
        "'''\n",
        "x = np.arange(4)\n",
        "y = np.arange(0,8).reshape(2,4)\n",
        "for a, b in np.nditer([x,y]):\n",
        "    print(a,':',b)\n",
        "    \n"
      ],
      "execution_count": null,
      "outputs": [
        {
          "output_type": "stream",
          "text": [
            "0 : 0\n",
            "1 : 1\n",
            "2 : 2\n",
            "3 : 3\n",
            "0 : 4\n",
            "1 : 5\n",
            "2 : 6\n",
            "3 : 7\n"
          ],
          "name": "stdout"
        }
      ]
    },
    {
      "cell_type": "code",
      "metadata": {
        "id": "Wz1mZ8ebsDp7",
        "outputId": "86ebf6e2-2363-4d50-eadd-7ba2a8b376bf"
      },
      "source": [
        "'''\n",
        "Exercise 13: Write a NumPy program to replace all elements of NumPy array that are greater than specified array.\n",
        "Original array:\n",
        "[[0.42436315 0.48558583 0.32924763]\n",
        " [0.7439979  0.58220701 0.38213418]\n",
        " [0.5097581  0.34528799 0.1563123 ]]\n",
        "Replace all elements of the said array with .5 which are greater than .5\n",
        "[[0.42436315 0.48558583 0.32924763]\n",
        " [0.5        0.5        0.38213418]\n",
        " [0.5        0.34528799 0.1563123 ]]\n",
        " '''\n",
        "a=np.array([[ 0.42436315, 0.48558583, 0.32924763], [ 0.7439979,0.58220701,0.38213418], [ 0.5097581,0.34528799,0.1563123 ]])\n",
        "a[a>0.5]=0.5\n",
        "print(a)\n",
        "print(\"\\n***using for loop***\\n\")\n",
        "b=np.array([[ 0.42436315, 0.48558583, 0.32924763], [ 0.7439979,0.58220701,0.38213418], [ 0.5097581,0.34528799,0.1563123 ]])\n",
        "for i in range(b.shape[0]):\n",
        "    for j in range(b.shape[0]):\n",
        "        if(b[i][j])>0.5:\n",
        "            b[i][j]=0.5\n",
        "            #print(a)\n",
        "print(b)\n"
      ],
      "execution_count": null,
      "outputs": [
        {
          "output_type": "stream",
          "text": [
            "[[0.42436315 0.48558583 0.32924763]\n",
            " [0.5        0.5        0.38213418]\n",
            " [0.5        0.34528799 0.1563123 ]]\n",
            "\n",
            "***using for loop***\n",
            "\n",
            "[[0.42436315 0.48558583 0.32924763]\n",
            " [0.5        0.5        0.38213418]\n",
            " [0.5        0.34528799 0.1563123 ]]\n"
          ],
          "name": "stdout"
        }
      ]
    },
    {
      "cell_type": "code",
      "metadata": {
        "id": "lb1fYgsYsDp7",
        "outputId": "48fd85cc-dbef-4903-d3a7-e8a6a9b1971c"
      },
      "source": [
        "'''Exercise 14: Add a new row to an empty numpy array\n",
        "Empty array:\n",
        "[]\n",
        "After adding two new arrays:\n",
        "[[10 20 30]\n",
        " [40 50 60]]\n",
        "'''\n",
        "a=np.empty((0,3),int)\n",
        "print(a)\n",
        "a = np.append(a, np.array([[10,20,30]]), axis=0)\n",
        "a = np.append(a, np.array([[40,50,60]]), axis=0)\n",
        "print(a)\n"
      ],
      "execution_count": null,
      "outputs": [
        {
          "output_type": "stream",
          "text": [
            "[]\n",
            "[[10 20 30]\n",
            " [40 50 60]]\n"
          ],
          "name": "stdout"
        }
      ]
    },
    {
      "cell_type": "code",
      "metadata": {
        "id": "EUtqwAstsDp7",
        "outputId": "63d0c500-9fb7-40fa-ecec-a00dc0edb69c"
      },
      "source": [
        "'''\n",
        "Exercise 15: Write a NumPy program to join a sequence of arrays along a new axis.\n",
        "'''\n",
        "a = np.array([1, 2, 3])\n",
        "b = np.array([2, 3, 4])\n",
        "print(np.vstack((a, b)))\n",
        "a = np.array([[1], [2], [3]])\n",
        "b = np.array([[2], [3], [4]])\n",
        "print(np.vstack((a, b)))"
      ],
      "execution_count": null,
      "outputs": [
        {
          "output_type": "stream",
          "text": [
            "[[1 2 3]\n",
            " [2 3 4]]\n",
            "[[1]\n",
            " [2]\n",
            " [3]\n",
            " [2]\n",
            " [3]\n",
            " [4]]\n"
          ],
          "name": "stdout"
        }
      ]
    },
    {
      "cell_type": "code",
      "metadata": {
        "id": "EYyyVy5EsDp7"
      },
      "source": [
        ""
      ],
      "execution_count": null,
      "outputs": []
    }
  ]
}