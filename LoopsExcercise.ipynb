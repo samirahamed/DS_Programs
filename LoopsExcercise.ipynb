{
  "nbformat": 4,
  "nbformat_minor": 0,
  "metadata": {
    "kernelspec": {
      "display_name": "Python 3",
      "language": "python",
      "name": "python3"
    },
    "language_info": {
      "codemirror_mode": {
        "name": "ipython",
        "version": 3
      },
      "file_extension": ".py",
      "mimetype": "text/x-python",
      "name": "python",
      "nbconvert_exporter": "python",
      "pygments_lexer": "ipython3",
      "version": "3.7.3"
    },
    "colab": {
      "name": "LoopsExcercise.ipynb",
      "provenance": [],
      "collapsed_sections": []
    }
  },
  "cells": [
    {
      "cell_type": "code",
      "metadata": {
        "id": "j1KRnCz6p_Lm",
        "outputId": "5c0edcf2-49df-4ed7-b926-068687b7024f"
      },
      "source": [
        "'''\n",
        "Program 1:\n",
        "Write a Python program to find those numbers which are divisible by 7 and multiple of 5, \n",
        "between 1500 and 2700 (both included)\n",
        "'''\n",
        "\n",
        "for i in range(1500,2701):\n",
        "    if i%7 == 0 and i%5 ==0:\n",
        "        print(i,end=\", \")"
      ],
      "execution_count": null,
      "outputs": [
        {
          "output_type": "stream",
          "text": [
            "1505, 1540, 1575, 1610, 1645, 1680, 1715, 1750, 1785, 1820, 1855, 1890, 1925, 1960, 1995, 2030, 2065, 2100, 2135, 2170, 2205, 2240, 2275, 2310, 2345, 2380, 2415, 2450, 2485, 2520, 2555, 2590, 2625, 2660, 2695, "
          ],
          "name": "stdout"
        }
      ]
    },
    {
      "cell_type": "markdown",
      "metadata": {
        "id": "fWo9DOmhqB-C"
      },
      "source": [
        "# New Section"
      ]
    },
    {
      "cell_type": "code",
      "metadata": {
        "id": "8h7EDERPp_Lp",
        "outputId": "d85215b6-52f4-4113-ca68-ed2361dbc79f"
      },
      "source": [
        "'''\n",
        "2. Write a Python program to construct the following pattern, using a nested for loop.\n",
        "'''\n",
        "n = 5\n",
        "for i in range(0,n):\n",
        "    for j in range(i,i+1):\n",
        "        print(\"* \"*(j+1))\n",
        "\n",
        "for i in range(n,0,-1):\n",
        "    for j in range(i,i+1):\n",
        "        print(\"* \"*j)\n",
        "\n",
        "# OR\n",
        "print(\" \")\n",
        "print(\" \")\n",
        "\n",
        "n = 5\n",
        "for i in range(0,n):\n",
        "    for j in range(0,i+1):\n",
        "        print(\"*\", end=\" \")\n",
        "    print(\"\")\n",
        "\n",
        "for i in range(n,0,-1):\n",
        "    for j in range(i,0,-1):\n",
        "        print(\"*\",end = \" \")\n",
        "    print(\"\")"
      ],
      "execution_count": null,
      "outputs": [
        {
          "output_type": "stream",
          "text": [
            "* \n",
            "* * \n",
            "* * * \n",
            "* * * * \n",
            "* * * * * \n",
            "* * * * * \n",
            "* * * * \n",
            "* * * \n",
            "* * \n",
            "* \n",
            " \n",
            " \n",
            "* \n",
            "* * \n",
            "* * * \n",
            "* * * * \n",
            "* * * * * \n",
            "* * * * * \n",
            "* * * * \n",
            "* * * \n",
            "* * \n",
            "* \n"
          ],
          "name": "stdout"
        }
      ]
    },
    {
      "cell_type": "code",
      "metadata": {
        "id": "ynoMT-2Ip_Lq",
        "outputId": "120bfb26-6d04-4104-9bf9-97688b98cace"
      },
      "source": [
        "'''\n",
        "3. Write a Python program to count the number of even and odd numbers from a series of numbers\n",
        "'''\n",
        "num_ = int(input(\"Enter a number \"))\n",
        "\n",
        "\n",
        "def count_(num_):\n",
        "    even_ = 0\n",
        "    odd_ = 0\n",
        "    for i in str(num_):\n",
        "        if int(i)%2==0:\n",
        "            even_ = even_+1\n",
        "        else:\n",
        "            odd_ = odd_+1\n",
        "    return(even_,odd_)\n",
        "        \n",
        "\n",
        "evn_,od_=count_(num_)\n",
        "print(\"Number of even numbers: {}\".format(evn_))\n",
        "print(\"Number of odd numbers: {}\".format(od_))"
      ],
      "execution_count": null,
      "outputs": [
        {
          "output_type": "stream",
          "text": [
            "Enter a number 1112\n",
            "Number of even numbers: 1\n",
            "Number of odd numbers: 3\n"
          ],
          "name": "stdout"
        }
      ]
    },
    {
      "cell_type": "code",
      "metadata": {
        "id": "vAwVsd6Gp_Lr"
      },
      "source": [
        "'''\n",
        "4. Write a Python program to find numbers between 100 and 400 (both included) where each digit of a number is an even number. \n",
        "The numbers obtained should be printed in a comma-separated sequence.\n",
        "200,202,204,206,208,220,222,224,226,228,240,242,244,246,248,260,262,264,266,268,280,282,284,286,288,400\n",
        "'''\n",
        "list_=[]\n",
        "\n",
        "for i in range(100,401,1):\n",
        "    cnt_=0\n",
        "    for j in str(i):\n",
        "        if int(j)%2!=0:\n",
        "            cnt_=cnt_+1\n",
        "    if cnt_ == 0:\n",
        "        list_.append(i)\n",
        "print(*list_,sep=',')\n",
        "\n",
        "            \n",
        "    "
      ],
      "execution_count": null,
      "outputs": []
    },
    {
      "cell_type": "code",
      "metadata": {
        "id": "H1Y9NlM_p_Lr",
        "outputId": "c8e91387-1f19-4fa8-e65f-c0eccc6956b0"
      },
      "source": [
        "'''\n",
        "5. Write a Python program to calculate a dog's age in dog's years. Go to the editor\n",
        "Note: For the first two years, a dog year is equal to 10.5 human years. After that, each dog year equals 4 human years\n",
        "Input a dog's age in human years: 20\n",
        "The dog's age in dog's years is 93\n",
        "'''\n",
        "age = 20\n",
        "\n",
        "if age <= 2:\n",
        "    age = age * 10.5\n",
        "else:\n",
        "    age = 21+(age-2)*4\n",
        "\n",
        "print(\"Dog's age in Dog yr\", age)"
      ],
      "execution_count": null,
      "outputs": [
        {
          "output_type": "stream",
          "text": [
            "Dog's age in Dog yr 93\n"
          ],
          "name": "stdout"
        }
      ]
    },
    {
      "cell_type": "code",
      "metadata": {
        "id": "QlECW6mep_Ls",
        "outputId": "5bf963bf-0eab-4683-db45-c9e1159de3bb"
      },
      "source": [
        "'''\n",
        "6. Write a Python function to find the Max of three numbers\n",
        "The Three numbers are: (3, 6, -5)\n",
        "'''\n",
        "num1 = float(input(\"Enter first number: \"))\n",
        "num2 = float(input(\"Enter second number: \"))\n",
        "num3 = float(input(\"Enter third number: \"))\n",
        "\n",
        "def max_(num1,num2,num3):\n",
        "    if num1>num2 and num1>num3:\n",
        "        return num1\n",
        "    elif num2>num1 and num2>num3:\n",
        "        return num2\n",
        "    else:\n",
        "        return num3\n",
        "\n",
        "print(\"The 3 numbers are {},{},{}\".format(num1,num2,num3))\n",
        "print(max_(num1,num2,num3))\n",
        "\n",
        "#or\n",
        "print(\"Second approach - Max Number is \",max(num1,num2,num3))"
      ],
      "execution_count": null,
      "outputs": [
        {
          "output_type": "stream",
          "text": [
            "Enter first number: 1\n",
            "Enter second number: 2\n",
            "Enter third number: 3\n",
            "The 3 numbers are 1.0,2.0,3.0\n",
            "3.0\n",
            "Second approach - Max Number is  3.0\n"
          ],
          "name": "stdout"
        }
      ]
    },
    {
      "cell_type": "code",
      "metadata": {
        "id": "H-9Ayar4p_Lt",
        "outputId": "bde77e22-55f5-46d0-a28b-1035e4bf60b1"
      },
      "source": [
        "'''\n",
        "7. Write a Python function that takes a number as a parameter and check the number is prime or not\n",
        "'''\n",
        "num1 = int(input(\"Enter number to check if it is prime or not: \"))\n",
        "\n",
        "def prime_(a):\n",
        "    if a>1:\n",
        "        for i in range(2,a):\n",
        "            if a%i==0:\n",
        "                print(\"Not Prime\")\n",
        "                break\n",
        "        else:\n",
        "            print(\"Prime\")\n",
        "    else:\n",
        "        print('Not Prime')\n",
        "\n",
        "prime_(num1)"
      ],
      "execution_count": null,
      "outputs": [
        {
          "output_type": "stream",
          "text": [
            "Enter number to check if it is prime or not: 31\n",
            "Prime\n"
          ],
          "name": "stdout"
        }
      ]
    },
    {
      "cell_type": "code",
      "metadata": {
        "id": "r0PRiApop_Lt",
        "outputId": "4ab9cb3b-e6b9-4005-b54b-e8f760ec350a"
      },
      "source": [
        "'''\n",
        "8. Write a Python function that accepts a string \n",
        "and calculate the number of upper case letters and lower case letters. Go to the editor\n",
        "'''\n",
        "str_=input(\"Enter a string: \")\n",
        "def case_(str_):\n",
        "    str_ = str_.replace(\" \",\"\")\n",
        "    print(str_)\n",
        "    lower_cnt_ = 0\n",
        "    upper_cnt_ = 0\n",
        "    for i in str_:\n",
        "        if ord(i) >= 65 and ord(i) <=90:\n",
        "            upper_cnt_= upper_cnt_+1\n",
        "        else:\n",
        "            lower_cnt_= lower_cnt_+1\n",
        "    return upper_cnt_,lower_cnt_\n",
        "a,b=(case_(str_))\n",
        "print(\"No. upper case letters is {} and lower case letter is {} in {}\".format(a,b,str_))"
      ],
      "execution_count": null,
      "outputs": [
        {
          "output_type": "stream",
          "text": [
            "Enter a string: 3\n",
            "3\n",
            "No. upper case letters is 0 and lower case letter is 1 in 3\n"
          ],
          "name": "stdout"
        }
      ]
    },
    {
      "cell_type": "code",
      "metadata": {
        "id": "DZXIsy2dp_Lu",
        "outputId": "d2b71ab6-27b4-4437-e66f-5dd96ef013c1"
      },
      "source": [
        "'''\n",
        "9. Write a Python program to reverse a string\n",
        "'''\n",
        "str_ = 'Reverse String'\n",
        "a=list(str_)\n",
        "s=''\n",
        "for i in range(len(a),0,-1):\n",
        "    print(a[i-1],end='')\n",
        "\n",
        "#OR\n",
        "print(\"\")\n",
        "print(\"Using Join:\",''.join(reversed('Reverse String')))\n",
        "\n",
        "#OR\n",
        "for i in 'Reverse String':\n",
        "    s = i+s\n",
        "print(\"Using Concatenate:\",s)\n",
        "\n",
        "#OR\n",
        "print('Using String Slice:','Reverse String'[::-1])"
      ],
      "execution_count": null,
      "outputs": [
        {
          "output_type": "stream",
          "text": [
            "gnirtS esreveR\n",
            "Using Join: gnirtS esreveR\n",
            "Using Concatenate: gnirtS esreveR\n",
            "Using String Slice: gnirtS esreveR\n"
          ],
          "name": "stdout"
        }
      ]
    },
    {
      "cell_type": "code",
      "metadata": {
        "id": "7A1XWDQpp_Lv"
      },
      "source": [
        "'''\n",
        "10. Write a Python program to find the greatest common divisor (gcd) of two integers.\n",
        "'''\n",
        "n1=100\n",
        "n2=256\n",
        "if n1<n2:\n",
        "    x=n1\n",
        "else:\n",
        "    x=n2\n",
        "for i in range(1,x+1):\n",
        "    if ((n1%i==0) and (n2%i==0)):\n",
        "        gcd=i\n",
        "print(gcd)"
      ],
      "execution_count": null,
      "outputs": []
    },
    {
      "cell_type": "code",
      "metadata": {
        "id": "5GJY3JrPp_Lv",
        "outputId": "c8015e2c-fadf-439a-cb24-f95308d57a30"
      },
      "source": [
        "'''\n",
        "11. Write a function to find if a string is a palindrome or not!\n",
        "'''\n",
        "str1 = 'Inceptez'\n",
        "rev_str = str1[::-1]\n",
        "if str1==rev_str:\n",
        "    print(\"String is\",str1,\"palindrome\")\n",
        "else:\n",
        "    print(\"String\",str1,\"is not a palindrome\")\n",
        "\n",
        "#or ignoring case sensitive\n",
        "str1 = 'Inceptez'\n",
        "rev_str = str1.upper()[::-1]\n",
        "if str1==rev_str:\n",
        "    print(\"String is\",str1,\"palindrome\")\n",
        "else:\n",
        "    print(\"String\",str1,\"is not a palindrome\")\n",
        "\n",
        "# or using for loop\n",
        "str_ = 'adrada'\n",
        "flag = 0\n",
        "for i in range(0,len(str_)):\n",
        "    if i>len(str_)-(i+1):\n",
        "        break\n",
        "    if i==len(str_)-(i+1):\n",
        "        flag=0\n",
        "    if str_[i]!=str_[len(str_)-(i+1)]:\n",
        "        print(\"No\")\n",
        "        flag = flag+1\n",
        "        break\n",
        "if flag == 0:\n",
        "    print(\"Yes\")"
      ],
      "execution_count": null,
      "outputs": [
        {
          "output_type": "stream",
          "text": [
            "String Inceptez is not a palindrome\n",
            "String Inceptez is not a palindrome\n"
          ],
          "name": "stdout"
        }
      ]
    },
    {
      "cell_type": "code",
      "metadata": {
        "id": "YYKUv-6bp_Lw",
        "outputId": "8e3e32d5-2ad8-449e-f7dc-26169def9f15"
      },
      "source": [
        "'''\n",
        "12. Write a recurssive function to find if a string is a palindrome or not!\n",
        "'''\n",
        "\n",
        "def rec_(str_,start,end):\n",
        "    if (start == end):\n",
        "        return True\n",
        "    elif (str_[start]!=str_[end]):\n",
        "        #print(str_[start],str_[end])\n",
        "        return False\n",
        "    elif (start < end + 1):\n",
        "        #print(start,end)\n",
        "        return rec_(str_,start+1,end-1)\n",
        "    return True\n",
        "         \n",
        "    \n",
        "\n",
        "str_='saas'\n",
        "palin_=rec_(str_,0,len(str_)-1)\n",
        "print(palin_)\n",
        "if palin_==True:\n",
        "    print(\"String is Palindrome\")\n",
        "else:\n",
        "    print(\"Sring is not a Palindrome\") \n"
      ],
      "execution_count": null,
      "outputs": [
        {
          "output_type": "stream",
          "text": [
            "True\n",
            "String is Palindrome\n"
          ],
          "name": "stdout"
        }
      ]
    }
  ]
}