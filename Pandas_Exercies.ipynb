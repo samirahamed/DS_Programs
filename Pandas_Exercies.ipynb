{
  "nbformat": 4,
  "nbformat_minor": 0,
  "metadata": {
    "kernelspec": {
      "display_name": "Python 3",
      "language": "python",
      "name": "python3"
    },
    "language_info": {
      "codemirror_mode": {
        "name": "ipython",
        "version": 3
      },
      "file_extension": ".py",
      "mimetype": "text/x-python",
      "name": "python",
      "nbconvert_exporter": "python",
      "pygments_lexer": "ipython3",
      "version": "3.7.3"
    },
    "colab": {
      "name": "Pandas_Exercies.ipynb",
      "provenance": [],
      "collapsed_sections": []
    }
  },
  "cells": [
    {
      "cell_type": "markdown",
      "metadata": {
        "id": "kDWrl4vvr9Ts"
      },
      "source": [
        ""
      ]
    },
    {
      "cell_type": "code",
      "metadata": {
        "colab": {
          "base_uri": "https://localhost:8080/"
        },
        "id": "R885Cc0drJNd",
        "outputId": "f3e1687d-83cd-412b-98a0-efb6ecdd829a"
      },
      "source": [
        "'''\n",
        "Exercise 1: Write a Pandas program to create and display a DataFrame from a specified dictionary data \n",
        "which has the index labels.\n",
        "        name  score  attempts qualify\n",
        "a  Anastasia   12.5         1     yes\n",
        "b       Dima    9.0         3      no\n",
        "c  Katherine   16.5         2     yes\n",
        "d      James    NaN         3      no\n",
        "e      Emily    9.0         2      no\n",
        "f    Michael   20.0         3     yes\n",
        "g    Matthew   14.5         1     yes\n",
        "h      Laura    NaN         1      noa\n",
        "i      Kevin    8.0         2      no\n",
        "j      Jonas   19.0         1     yes\n",
        "'''\n",
        "import numpy as np\n",
        "import pandas as pd\n",
        "exam_data  = {'name': ['Anastasia', 'Dima', 'Katherine', 'James', 'Emily', 'Michael', 'Matthew', 'Laura', 'Kevin', 'Jonas'],\n",
        "        'score': [12.5, 9, 16.5, np.nan, 9, 20, 14.5, np.nan, 8, 19],\n",
        "        'attempts': [1, 3, 2, 3, 2, 3, 1, 1, 2, 1],\n",
        "        'qualify': ['yes', 'no', 'yes', 'no', 'no', 'yes', 'yes', 'no', 'no', 'yes']}\n",
        "data = pd.DataFrame(exam_data,index = ['a','b','c','d','e','f','g','h','i','j'])\n",
        "print(data)"
      ],
      "execution_count": 1,
      "outputs": [
        {
          "output_type": "stream",
          "text": [
            "        name  score  attempts qualify\n",
            "a  Anastasia   12.5         1     yes\n",
            "b       Dima    9.0         3      no\n",
            "c  Katherine   16.5         2     yes\n",
            "d      James    NaN         3      no\n",
            "e      Emily    9.0         2      no\n",
            "f    Michael   20.0         3     yes\n",
            "g    Matthew   14.5         1     yes\n",
            "h      Laura    NaN         1      no\n",
            "i      Kevin    8.0         2      no\n",
            "j      Jonas   19.0         1     yes\n"
          ],
          "name": "stdout"
        }
      ]
    },
    {
      "cell_type": "code",
      "metadata": {
        "id": "AXU5-RzNrJNd",
        "outputId": "77033c2b-50b7-4c3d-977a-e6231b5af6a6"
      },
      "source": [
        "'''\n",
        "Exercise 2: Write a Pandas program to select the rows where number of attempts in the examination is less than 2 \n",
        "and score greater than 15.\n",
        "Number of attempts in the examination is less than 2 and score greater than 15 :\n",
        "    name  score  attempts qualify\n",
        "j  Jonas   19.0         1     yes\n",
        "'''\n",
        "a=data[(data['attempts']<2) & (data['score']>15)]\n",
        "print(a)"
      ],
      "execution_count": null,
      "outputs": [
        {
          "output_type": "stream",
          "text": [
            "    name  score  attempts qualify\n",
            "j  Jonas   19.0         1     yes\n"
          ],
          "name": "stdout"
        }
      ]
    },
    {
      "cell_type": "code",
      "metadata": {
        "id": "Ldwg7yO2rJNd",
        "outputId": "c33dd921-4f7e-44d2-ae48-d6c1b0e4dbd1"
      },
      "source": [
        "'''\n",
        "Exerise 3: Change the value in row 'd' to 11.5\n",
        "Change the score in row 'd' to 11.5:\n",
        "        name  score  attempts qualify\n",
        "a  Anastasia   12.5         1     yes\n",
        "b       Dima    9.0         3      no\n",
        "c  Katherine   16.5         2     yes\n",
        "d      James   11.5         3      no\n",
        "e      Emily    9.0         2      no\n",
        "f    Michael   20.0         3     yes\n",
        "g    Matthew   14.5         1     yes\n",
        "h      Laura    NaN         1      no\n",
        "i      Kevin    8.0         2      no\n",
        "j      Jonas   19.0         1     yes\n",
        "'''\n",
        "data.loc['d', 'score'] = 11.5\n",
        "print(data)"
      ],
      "execution_count": null,
      "outputs": [
        {
          "output_type": "stream",
          "text": [
            "        name  score  attempts qualify\n",
            "a  Anastasia   12.5         1     yes\n",
            "b       Dima    9.0         3      no\n",
            "c  Katherine   16.5         2     yes\n",
            "d      James   11.5         3      no\n",
            "e      Emily    9.0         2      no\n",
            "f    Michael   20.0         3     yes\n",
            "g    Matthew   14.5         1     yes\n",
            "h      Laura    NaN         1      no\n",
            "i      Kevin    8.0         2      no\n",
            "j      Jonas   19.0         1     yes\n"
          ],
          "name": "stdout"
        }
      ]
    },
    {
      "cell_type": "code",
      "metadata": {
        "id": "ZuPePLWGrJNd",
        "outputId": "fbb4b20c-a06a-450a-fe8d-4f99ecbab0f0"
      },
      "source": [
        "'''\n",
        "Exercise 4: Write a Pandas program to calculate the sum of the examination attempts by the students.\n",
        "data: d = {'col1': [1, 4, 3, 4, 5], 'col2': [4, 5, 6, 7, 8], 'col3': [7, 8, 9, 0, 1]}\n",
        "Original DataFrame\n",
        "   col1  col2  col3\n",
        "0     1     4     7\n",
        "1     4     5     8\n",
        "2     3     6     9\n",
        "3     4     7     0\n",
        "4     5     8     1\n",
        "Rows for colum1 value == 4\n",
        "   col1  col2  col3\n",
        "1     4     5     8\n",
        "3     4     7     0\n",
        "'''\n",
        "d = {'col1': [1, 4, 3, 4, 5], 'col2': [4, 5, 6, 7, 8], 'col3': [7, 8, 9, 0, 1]}\n",
        "#print(d)\n",
        "data = pd.DataFrame(d)\n",
        "data=data[data['col1']==4]\n",
        "print(data)\n",
        "\n",
        "exam_data  = {'name': ['Anastasia', 'Dima', 'Katherine', 'James', 'Emily', 'Michael', 'Matthew', 'Laura', 'Kevin', 'Jonas'],\n",
        "        'score': [12.5, 9, 16.5, np.nan, 9, 20, 14.5, np.nan, 8, 19],\n",
        "        'attempts': [1, 3, 2, 3, 2, 3, 1, 1, 2, 1],\n",
        "        'qualify': ['yes', 'no', 'yes', 'no', 'no', 'yes', 'yes', 'no', 'no', 'yes']}\n",
        "data = pd.DataFrame(exam_data,index = ['a','b','c','d','e','f','g','h','i','j'])\n",
        "print(\"sum\",data['attempts'].sum())"
      ],
      "execution_count": null,
      "outputs": [
        {
          "output_type": "stream",
          "text": [
            "   col1  col2  col3\n",
            "1     4     5     8\n",
            "3     4     7     0\n",
            "sum 19\n"
          ],
          "name": "stdout"
        }
      ]
    },
    {
      "cell_type": "code",
      "metadata": {
        "id": "WLy3PYCfrJNd",
        "outputId": "4e15cd9d-f4ef-4909-8903-6208e6a81bd6"
      },
      "source": [
        "'''\n",
        "Exercise 5: Drop a list of rows from a specified DataFrame\n",
        "data:\n",
        "d = {'col1': [1, 4, 3, 4, 5], 'col2': [4, 5, 6, 7, 8], 'col3': [7, 8, 9, 0, 1]}\n",
        "Original DataFrame\n",
        "   col1  col2  col3\n",
        "0     1     4     7\n",
        "1     4     5     8\n",
        "2     3     6     9\n",
        "3     4     7     0\n",
        "4     5     8     1\n",
        "New DataFrame after removing 2nd & 4th rows:\n",
        "   col1  col2  col3\n",
        "0     1     4     7\n",
        "1     4     5     8\n",
        "3     4     7     0\n",
        "'''\n",
        "d = {'col1': [1, 4, 3, 4, 5], 'col2': [4, 5, 6, 7, 8], 'col3': [7, 8, 9, 0, 1]}\n",
        "data = pd.DataFrame(d)\n",
        "print(data)\n",
        "data=data.drop(data.index[[2,4]])\n",
        "print(data)"
      ],
      "execution_count": null,
      "outputs": [
        {
          "output_type": "stream",
          "text": [
            "   col1  col2  col3\n",
            "0     1     4     7\n",
            "1     4     5     8\n",
            "2     3     6     9\n",
            "3     4     7     0\n",
            "4     5     8     1\n",
            "   col1  col2  col3\n",
            "0     1     4     7\n",
            "1     4     5     8\n",
            "3     4     7     0\n"
          ],
          "name": "stdout"
        }
      ]
    },
    {
      "cell_type": "code",
      "metadata": {
        "id": "UGrFVJyqrJNd",
        "outputId": "ce45d9ad-26de-4ef0-b017-c8e9d4bdf855"
      },
      "source": [
        "'''\n",
        "Exercise 6: Check whether a given column is present in a DataFrame or not¶\n",
        "data:\n",
        "d = {'col1': [1, 2, 3, 4, 7], 'col2': [4, 5, 6, 9, 5], 'col3': [7, 8, 12, 1, 11]}\n",
        "Original DataFrame\n",
        "   col1  col2  col3\n",
        "0     1     4     7\n",
        "1     2     5     8\n",
        "2     3     6    12\n",
        "3     4     9     1\n",
        "4     7     5    11\n",
        "Col4 is not present in DataFrame.\n",
        "Col1 is present in DataFrame.\n",
        "'''\n",
        "d = {'col1': [1, 2, 3, 4, 7], 'col2': [4, 5, 6, 9, 5], 'col3': [7, 8, 12, 1, 11]}\n",
        "data = pd.DataFrame(d)\n",
        "if 'col4' in data.columns:\n",
        "    print(\"Col4 is not present in DataFrame\")\n",
        "else:\n",
        "    print(\"Col4 is not present in DataFrame.\")\n",
        "if 'col1' in data.columns:\n",
        "    print(\"Col1 is present in DataFrame.\")\n",
        "else:\n",
        "    print(\"Col1 is not present in DataFrame.\")\n",
        "\n"
      ],
      "execution_count": null,
      "outputs": [
        {
          "output_type": "stream",
          "text": [
            "Col4 is not present in DataFrame.\n",
            "Col1 is present in DataFrame.\n"
          ],
          "name": "stdout"
        }
      ]
    },
    {
      "cell_type": "code",
      "metadata": {
        "id": "xqbeYIVmrJNt",
        "outputId": "15cac9f0-12f9-4dcc-f7e7-2c9cc10c0d5d"
      },
      "source": [
        "'''\n",
        "Exercise 7: Get column index from column name of a given DataFrame\n",
        "data:\n",
        "d = {'col1': [1, 2, 3, 4, 7], 'col2': [4, 5, 6, 9, 5], 'col3': [7, 8, 12, 1, 11]}\n",
        "\n",
        "HINT: Try using a function called get_loc():\n",
        "Syntax: dataframe.columns.get_loc()\n",
        "\n",
        "Original DataFrame\n",
        "   col1  col2  col3\n",
        "0     1     4     7\n",
        "1     2     5     8\n",
        "2     3     6    12\n",
        "3     4     9     1\n",
        "4     7     5    11\n",
        "\n",
        "Index of 'col2'\n",
        "1\n",
        "'''\n",
        "d = {'col1': [1, 2, 3, 4, 7], 'col2': [4, 5, 6, 9, 5], 'col3': [7, 8, 12, 1, 11]}\n",
        "data = pd.DataFrame(d)\n",
        "print(\"\\nIndex of 'col2' is\\n\",data.columns.get_loc('col2'))"
      ],
      "execution_count": null,
      "outputs": [
        {
          "output_type": "stream",
          "text": [
            "\n",
            "Index of 'col2' is\n",
            " 1\n"
          ],
          "name": "stdout"
        }
      ]
    },
    {
      "cell_type": "code",
      "metadata": {
        "id": "-YpMDUBMrJNt",
        "outputId": "437ab5bf-c5a1-42d9-fa97-df05167b26ab"
      },
      "source": [
        "'''\n",
        "Exercise 8: Write a Pandas program to select all columns, except one given column in a DataFrame.\n",
        "All columns except 'col3':\n",
        "   col1  col2\n",
        "0     1     4\n",
        "1     2     5\n",
        "2     3     6\n",
        "3     4     9\n",
        "4     7     5\n",
        "'''\n",
        "d = {'col1': [1, 2, 3, 4, 7], 'col2': [4, 5, 6, 9, 5], 'col3': [7, 8, 12, 1, 11]}\n",
        "data = pd.DataFrame(d)\n",
        "print(data)\n",
        "a=data.iloc[:,0:2]\n",
        "print(\"using iloc\\n\",a)\n",
        "b = data.loc[:, data.columns != 'col3']\n",
        "print(\"using Loc\\n\",b)\n"
      ],
      "execution_count": null,
      "outputs": [
        {
          "output_type": "stream",
          "text": [
            "   col1  col2  col3\n",
            "0     1     4     7\n",
            "1     2     5     8\n",
            "2     3     6    12\n",
            "3     4     9     1\n",
            "4     7     5    11\n",
            "using iloc\n",
            "    col1  col2\n",
            "0     1     4\n",
            "1     2     5\n",
            "2     3     6\n",
            "3     4     9\n",
            "4     7     5\n",
            "using Loc\n",
            "    col1  col2\n",
            "0     1     4\n",
            "1     2     5\n",
            "2     3     6\n",
            "3     4     9\n",
            "4     7     5\n"
          ],
          "name": "stdout"
        }
      ]
    },
    {
      "cell_type": "code",
      "metadata": {
        "id": "MHkVY1SNrJNt",
        "outputId": "56231ccb-9a09-4268-b07d-5103ee1d3c5b"
      },
      "source": [
        "'''\n",
        "Exercise 9: Write a Pandas program to remove last n rows of a given DataFrame.\n",
        "Original DataFrame\n",
        "   col1  col2  col3\n",
        "0     1     4     7\n",
        "1     2     5     5\n",
        "2     3     6     8\n",
        "3     4     9    12\n",
        "4     7     5     1\n",
        "5    11     0    11\n",
        "\n",
        "After removing last 3 rows of the said DataFrame:\n",
        "   col1  col2  col3\n",
        "0     1     4     7\n",
        "1     2     5     5\n",
        "2     3     6     8\n",
        "'''\n",
        "d = {'col1': [1, 2, 3, 4, 7, 11], 'col2': [4, 5, 6, 9, 5, 0], 'col3': [7, 8, 12, 1, 11, 11]}\n",
        "data = pd.DataFrame(d)\n",
        "data = data[data.index.values <= data.index.max()-3]\n",
        "print(\"After removing last 3 rows\\n\",data)\n"
      ],
      "execution_count": null,
      "outputs": [
        {
          "output_type": "stream",
          "text": [
            "After removing last 3 rows\n",
            "    col1  col2  col3\n",
            "0     1     4     7\n",
            "1     2     5     8\n",
            "2     3     6    12\n"
          ],
          "name": "stdout"
        }
      ]
    },
    {
      "cell_type": "code",
      "metadata": {
        "id": "RKzzcqkarJNt"
      },
      "source": [
        "'''Exercise 10: Display the movies longer than 30 minutes and shorter than 360 minutes\n",
        "'''\n",
        "\n",
        "###having issues in downloading data set"
      ],
      "execution_count": null,
      "outputs": []
    }
  ]
}